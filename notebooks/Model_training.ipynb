{
 "cells": [
  {
   "cell_type": "code",
   "execution_count": 1,
   "id": "f8906c72",
   "metadata": {},
   "outputs": [
    {
     "name": "stdout",
     "output_type": "stream",
     "text": [
      "            Disease   Symptom_1              Symptom_2              Symptom_3  \\\n",
      "0  Fungal infection     itching              skin_rash   nodal_skin_eruptions   \n",
      "1  Fungal infection   skin_rash   nodal_skin_eruptions    dischromic _patches   \n",
      "2  Fungal infection     itching   nodal_skin_eruptions    dischromic _patches   \n",
      "3  Fungal infection     itching              skin_rash    dischromic _patches   \n",
      "4  Fungal infection     itching              skin_rash   nodal_skin_eruptions   \n",
      "\n",
      "              Symptom_4 Symptom_5 Symptom_6 Symptom_7 Symptom_8 Symptom_9  \\\n",
      "0   dischromic _patches       NaN       NaN       NaN       NaN       NaN   \n",
      "1                   NaN       NaN       NaN       NaN       NaN       NaN   \n",
      "2                   NaN       NaN       NaN       NaN       NaN       NaN   \n",
      "3                   NaN       NaN       NaN       NaN       NaN       NaN   \n",
      "4                   NaN       NaN       NaN       NaN       NaN       NaN   \n",
      "\n",
      "  Symptom_10 Symptom_11 Symptom_12 Symptom_13 Symptom_14 Symptom_15  \\\n",
      "0        NaN        NaN        NaN        NaN        NaN        NaN   \n",
      "1        NaN        NaN        NaN        NaN        NaN        NaN   \n",
      "2        NaN        NaN        NaN        NaN        NaN        NaN   \n",
      "3        NaN        NaN        NaN        NaN        NaN        NaN   \n",
      "4        NaN        NaN        NaN        NaN        NaN        NaN   \n",
      "\n",
      "  Symptom_16 Symptom_17  \n",
      "0        NaN        NaN  \n",
      "1        NaN        NaN  \n",
      "2        NaN        NaN  \n",
      "3        NaN        NaN  \n",
      "4        NaN        NaN  \n",
      "          Disease                                        Description\n",
      "0   Drug Reaction  An adverse drug reaction (ADR) is an injury ca...\n",
      "1         Malaria  An infectious disease caused by protozoan para...\n",
      "2         Allergy  An allergy is an immune system response to a f...\n",
      "3  Hypothyroidism  Hypothyroidism, also called underactive thyroi...\n",
      "4       Psoriasis  Psoriasis is a common skin disorder that forms...\n",
      "                Symptom  weight\n",
      "0               itching       1\n",
      "1             skin_rash       3\n",
      "2  nodal_skin_eruptions       4\n",
      "3   continuous_sneezing       4\n",
      "4             shivering       5\n",
      "          Disease                      Precaution_1  \\\n",
      "0   Drug Reaction                   stop irritation   \n",
      "1         Malaria          Consult nearest hospital   \n",
      "2         Allergy                    apply calamine   \n",
      "3  Hypothyroidism                     reduce stress   \n",
      "4       Psoriasis  wash hands with warm soapy water   \n",
      "\n",
      "                   Precaution_2        Precaution_3  \\\n",
      "0      consult nearest hospital    stop taking drug   \n",
      "1               avoid oily food  avoid non veg food   \n",
      "2       cover area with bandage                 NaN   \n",
      "3                      exercise         eat healthy   \n",
      "4  stop bleeding using pressure      consult doctor   \n",
      "\n",
      "                  Precaution_4  \n",
      "0                    follow up  \n",
      "1           keep mosquitos out  \n",
      "2  use ice to compress itching  \n",
      "3             get proper sleep  \n",
      "4                   salt baths  \n"
     ]
    }
   ],
   "source": [
    "import pandas as pd\n",
    "\n",
    "# Define paths to the CSV files relative to the notebooks directory\n",
    "dataset_path = '../dataset/dataset.csv'\n",
    "symptom_description_path = '../dataset/symptom_Description.csv'\n",
    "symptom_severity_path = '../dataset/Symptom-severity.csv'\n",
    "symptom_precaution_path = '../dataset/symptom_precaution.csv'\n",
    "\n",
    "# Read the CSV files into dataframes\n",
    "dataset_df = pd.read_csv(dataset_path)\n",
    "symptom_description_df = pd.read_csv(symptom_description_path)\n",
    "symptom_severity_df = pd.read_csv(symptom_severity_path)\n",
    "symptom_precaution_df = pd.read_csv(symptom_precaution_path)\n",
    "\n",
    "# Display the dataframes to understand their structure\n",
    "print(dataset_df.head())\n",
    "print(symptom_description_df.head())\n",
    "print(symptom_severity_df.head())\n",
    "print(symptom_precaution_df.head())\n"
   ]
  }
 ],
 "metadata": {
  "kernelspec": {
   "display_name": "Python 3",
   "language": "python",
   "name": "python3"
  },
  "language_info": {
   "codemirror_mode": {
    "name": "ipython",
    "version": 3
   },
   "file_extension": ".py",
   "mimetype": "text/x-python",
   "name": "python",
   "nbconvert_exporter": "python",
   "pygments_lexer": "ipython3",
   "version": "3.12.1"
  }
 },
 "nbformat": 4,
 "nbformat_minor": 5
}
